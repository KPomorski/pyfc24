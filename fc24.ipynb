{
 "cells": [
  {
   "cell_type": "code",
   "execution_count": 2,
   "metadata": {
    "collapsed": true,
    "ExecuteTime": {
     "end_time": "2024-01-22T00:39:11.820958Z",
     "start_time": "2024-01-22T00:39:11.172706Z"
    }
   },
   "outputs": [],
   "source": [
    "import json\n",
    "import time\n",
    "from pprint import pprint\n",
    "import requests\n",
    "import os\n",
    "from players import Player, PlayerStats\n",
    "import random\n",
    "from prettytable import PrettyTable\n",
    "\n",
    "\n",
    "players_list = []\n",
    "# Check if the given lim/off file exists\n",
    "if not os.path.exists(\"players/all_players.json\"):\n",
    "    print(f\"The file for all players does not exist.\")\n",
    "f = open(\"players/all_players.json\")\n",
    "d = json.load(f)\n",
    "for p in d:\n",
    "    players_list.append(PlayerStats(p))"
   ]
  },
  {
   "cell_type": "code",
   "execution_count": 9,
   "outputs": [
    {
     "ename": "TypeError",
     "evalue": "unhashable type: 'list'",
     "output_type": "error",
     "traceback": [
      "\u001B[0;31m---------------------------------------------------------------------------\u001B[0m",
      "\u001B[0;31mTypeError\u001B[0m                                 Traceback (most recent call last)",
      "\u001B[0;32m/var/folders/_n/1zb5vrcn0ng45sj2cnty_bsc0000gn/T/ipykernel_74929/3894977354.py\u001B[0m in \u001B[0;36m?\u001B[0;34m()\u001B[0m\n\u001B[1;32m      1\u001B[0m \u001B[0;32mimport\u001B[0m \u001B[0mpandas\u001B[0m \u001B[0;32mas\u001B[0m \u001B[0mpd\u001B[0m\u001B[0;34m\u001B[0m\u001B[0;34m\u001B[0m\u001B[0m\n\u001B[1;32m      2\u001B[0m \u001B[0;34m\u001B[0m\u001B[0m\n\u001B[1;32m      3\u001B[0m \u001B[0;34m\u001B[0m\u001B[0m\n\u001B[1;32m      4\u001B[0m \u001B[0mdf\u001B[0m \u001B[0;34m=\u001B[0m \u001B[0mpd\u001B[0m\u001B[0;34m.\u001B[0m\u001B[0mread_json\u001B[0m\u001B[0;34m(\u001B[0m\u001B[0;34m\"players/all_players.json\"\u001B[0m\u001B[0;34m)\u001B[0m\u001B[0;34m\u001B[0m\u001B[0;34m\u001B[0m\u001B[0m\n\u001B[0;32m----> 5\u001B[0;31m \u001B[0mdf\u001B[0m\u001B[0;34m.\u001B[0m\u001B[0mloc\u001B[0m\u001B[0;34m(\u001B[0m\u001B[0;34m[\u001B[0m\u001B[0;34m[\u001B[0m\u001B[0;36m0\u001B[0m\u001B[0;34m,\u001B[0m \u001B[0;36m1\u001B[0m\u001B[0;34m]\u001B[0m\u001B[0;34m]\u001B[0m\u001B[0;34m)\u001B[0m\u001B[0;34m\u001B[0m\u001B[0;34m\u001B[0m\u001B[0m\n\u001B[0m\u001B[1;32m      6\u001B[0m \u001B[0mprint\u001B[0m\u001B[0;34m(\u001B[0m\u001B[0mdf\u001B[0m\u001B[0;34m.\u001B[0m\u001B[0mhead\u001B[0m\u001B[0;34m(\u001B[0m\u001B[0;36m10\u001B[0m\u001B[0;34m)\u001B[0m\u001B[0;34m)\u001B[0m\u001B[0;34m\u001B[0m\u001B[0;34m\u001B[0m\u001B[0m\n",
      "\u001B[0;32m~/repos/pyfc24/venv/lib/python3.11/site-packages/pandas/core/indexing.py\u001B[0m in \u001B[0;36m?\u001B[0;34m(self, axis)\u001B[0m\n\u001B[1;32m    734\u001B[0m         \u001B[0;31m# we need to return a copy of ourselves\u001B[0m\u001B[0;34m\u001B[0m\u001B[0;34m\u001B[0m\u001B[0m\n\u001B[1;32m    735\u001B[0m         \u001B[0mnew_self\u001B[0m \u001B[0;34m=\u001B[0m \u001B[0mtype\u001B[0m\u001B[0;34m(\u001B[0m\u001B[0mself\u001B[0m\u001B[0;34m)\u001B[0m\u001B[0;34m(\u001B[0m\u001B[0mself\u001B[0m\u001B[0;34m.\u001B[0m\u001B[0mname\u001B[0m\u001B[0;34m,\u001B[0m \u001B[0mself\u001B[0m\u001B[0;34m.\u001B[0m\u001B[0mobj\u001B[0m\u001B[0;34m)\u001B[0m\u001B[0;34m\u001B[0m\u001B[0;34m\u001B[0m\u001B[0m\n\u001B[1;32m    736\u001B[0m \u001B[0;34m\u001B[0m\u001B[0m\n\u001B[1;32m    737\u001B[0m         \u001B[0;32mif\u001B[0m \u001B[0maxis\u001B[0m \u001B[0;32mis\u001B[0m \u001B[0;32mnot\u001B[0m \u001B[0;32mNone\u001B[0m\u001B[0;34m:\u001B[0m\u001B[0;34m\u001B[0m\u001B[0;34m\u001B[0m\u001B[0m\n\u001B[0;32m--> 738\u001B[0;31m             \u001B[0maxis_int_none\u001B[0m \u001B[0;34m=\u001B[0m \u001B[0mself\u001B[0m\u001B[0;34m.\u001B[0m\u001B[0mobj\u001B[0m\u001B[0;34m.\u001B[0m\u001B[0m_get_axis_number\u001B[0m\u001B[0;34m(\u001B[0m\u001B[0maxis\u001B[0m\u001B[0;34m)\u001B[0m\u001B[0;34m\u001B[0m\u001B[0;34m\u001B[0m\u001B[0m\n\u001B[0m\u001B[1;32m    739\u001B[0m         \u001B[0;32melse\u001B[0m\u001B[0;34m:\u001B[0m\u001B[0;34m\u001B[0m\u001B[0;34m\u001B[0m\u001B[0m\n\u001B[1;32m    740\u001B[0m             \u001B[0maxis_int_none\u001B[0m \u001B[0;34m=\u001B[0m \u001B[0maxis\u001B[0m\u001B[0;34m\u001B[0m\u001B[0;34m\u001B[0m\u001B[0m\n\u001B[1;32m    741\u001B[0m         \u001B[0mnew_self\u001B[0m\u001B[0;34m.\u001B[0m\u001B[0maxis\u001B[0m \u001B[0;34m=\u001B[0m \u001B[0maxis_int_none\u001B[0m\u001B[0;34m\u001B[0m\u001B[0;34m\u001B[0m\u001B[0m\n",
      "\u001B[0;32m~/repos/pyfc24/venv/lib/python3.11/site-packages/pandas/core/generic.py\u001B[0m in \u001B[0;36m?\u001B[0;34m(cls, axis)\u001B[0m\n\u001B[1;32m    572\u001B[0m     \u001B[0;34m@\u001B[0m\u001B[0mclassmethod\u001B[0m\u001B[0;34m\u001B[0m\u001B[0;34m\u001B[0m\u001B[0m\n\u001B[1;32m    573\u001B[0m     \u001B[0;32mdef\u001B[0m \u001B[0m_get_axis_number\u001B[0m\u001B[0;34m(\u001B[0m\u001B[0mcls\u001B[0m\u001B[0;34m,\u001B[0m \u001B[0maxis\u001B[0m\u001B[0;34m:\u001B[0m \u001B[0mAxis\u001B[0m\u001B[0;34m)\u001B[0m \u001B[0;34m->\u001B[0m \u001B[0mAxisInt\u001B[0m\u001B[0;34m:\u001B[0m\u001B[0;34m\u001B[0m\u001B[0;34m\u001B[0m\u001B[0m\n\u001B[1;32m    574\u001B[0m         \u001B[0;32mtry\u001B[0m\u001B[0;34m:\u001B[0m\u001B[0;34m\u001B[0m\u001B[0;34m\u001B[0m\u001B[0m\n\u001B[1;32m    575\u001B[0m             \u001B[0;32mreturn\u001B[0m \u001B[0mcls\u001B[0m\u001B[0;34m.\u001B[0m\u001B[0m_AXIS_TO_AXIS_NUMBER\u001B[0m\u001B[0;34m[\u001B[0m\u001B[0maxis\u001B[0m\u001B[0;34m]\u001B[0m\u001B[0;34m\u001B[0m\u001B[0;34m\u001B[0m\u001B[0m\n\u001B[0;32m--> 576\u001B[0;31m         \u001B[0;32mexcept\u001B[0m \u001B[0mKeyError\u001B[0m\u001B[0;34m:\u001B[0m\u001B[0;34m\u001B[0m\u001B[0;34m\u001B[0m\u001B[0m\n\u001B[0m\u001B[1;32m    577\u001B[0m             \u001B[0;32mraise\u001B[0m \u001B[0mValueError\u001B[0m\u001B[0;34m(\u001B[0m\u001B[0;34mf\"No axis named {axis} for object type {cls.__name__}\"\u001B[0m\u001B[0;34m)\u001B[0m\u001B[0;34m\u001B[0m\u001B[0;34m\u001B[0m\u001B[0m\n",
      "\u001B[0;31mTypeError\u001B[0m: unhashable type: 'list'"
     ]
    }
   ],
   "source": [
    "import pandas as pd\n",
    "\n",
    "df = pd.read_json(\"players/all_players.json\")"
   ],
   "metadata": {
    "collapsed": false,
    "ExecuteTime": {
     "end_time": "2024-01-22T00:46:32.825852Z",
     "start_time": "2024-01-22T00:46:32.177701Z"
    }
   }
  },
  {
   "cell_type": "code",
   "execution_count": 10,
   "outputs": [
    {
     "data": {
      "text/plain": "Index(['id', 'rank', 'overallRating', 'firstName', 'lastName', 'commonName',\n       'birthdate', 'height', 'skillMoves', 'weakFootAbility',\n       'attackingWorkRate', 'defensiveWorkRate', 'preferredFoot', 'leagueName',\n       'weight', 'avatarUrl', 'shieldUrl', 'alternatePositions', 'playStyle',\n       'playStylePlus', 'gender', 'nationality', 'team', 'position', 'stats'],\n      dtype='object')"
     },
     "execution_count": 10,
     "metadata": {},
     "output_type": "execute_result"
    }
   ],
   "source": [
    "df.columns"
   ],
   "metadata": {
    "collapsed": false,
    "ExecuteTime": {
     "end_time": "2024-01-22T00:48:55.510083Z",
     "start_time": "2024-01-22T00:48:55.472571Z"
    }
   }
  },
  {
   "cell_type": "code",
   "execution_count": 26,
   "outputs": [
    {
     "data": {
      "text/plain": "           id   rank  overallRating     firstName            lastName  \\\n2      239085      3             91        Erling             Haaland   \n3      192985      4             91         Kevin           De Bruyne   \n12     209331     13             89       Mohamed               Salah   \n15     239818     16             89  Rúben Santos     Gato Alves Dias   \n17     231866     18             89       Rodrigo  Hernández Cascante   \n...       ...    ...            ...           ...                 ...   \n16338  251423  16113             56        George             Shelvey   \n16406  271064  16393             55        Jordan             Amissah   \n16450  244809  16393             55        Marcus            Dewhurst   \n16452  268605  16393             55         Chris             Donnell   \n16556  250830  16393             55         Imari             Samuels   \n\n       commonName              birthdate  height  skillMoves  weakFootAbility  \\\n2            None  7/21/2000 12:00:00 AM     195           3                3   \n3            None  6/28/1991 12:00:00 AM     181           4                5   \n12           None  6/15/1992 12:00:00 AM     175           4                3   \n15     Rúben Dias  5/14/1997 12:00:00 AM     187           2                4   \n17          Rodri  6/22/1996 12:00:00 AM     191           3                4   \n...           ...                    ...     ...         ...              ...   \n16338        None  4/22/2001 12:00:00 AM     188           1                3   \n16406        None   8/2/2001 12:00:00 AM     198           1                2   \n16450        None  3/20/2001 12:00:00 AM     189           1                2   \n16452        None  1/24/2004 12:00:00 AM     181           2                3   \n16556        None   2/5/2003 12:00:00 AM     187           2                2   \n\n       ...                                          avatarUrl  \\\n2      ...  https://media.contentapi.ea.com/content/dam/ea...   \n3      ...  https://media.contentapi.ea.com/content/dam/ea...   \n12     ...  https://media.contentapi.ea.com/content/dam/ea...   \n15     ...  https://media.contentapi.ea.com/content/dam/ea...   \n17     ...  https://media.contentapi.ea.com/content/dam/ea...   \n...    ...                                                ...   \n16338  ...  https://media.contentapi.ea.com/content/dam/ea...   \n16406  ...  https://media.contentapi.ea.com/content/dam/ea...   \n16450  ...  https://media.contentapi.ea.com/content/dam/ea...   \n16452  ...  https://media.contentapi.ea.com/content/dam/ea...   \n16556  ...  https://media.contentapi.ea.com/content/dam/ea...   \n\n                                               shieldUrl  \\\n2      https://media.contentapi.ea.com/content/dam/ea...   \n3      https://media.contentapi.ea.com/content/dam/ea...   \n12     https://media.contentapi.ea.com/content/dam/ea...   \n15     https://media.contentapi.ea.com/content/dam/ea...   \n17     https://media.contentapi.ea.com/content/dam/ea...   \n...                                                  ...   \n16338  https://media.contentapi.ea.com/content/dam/ea...   \n16406  https://media.contentapi.ea.com/content/dam/ea...   \n16450  https://media.contentapi.ea.com/content/dam/ea...   \n16452  https://media.contentapi.ea.com/content/dam/ea...   \n16556  https://media.contentapi.ea.com/content/dam/ea...   \n\n                                      alternatePositions  \\\n2      [{'id': 21, 'label': 'Center Forward', 'shortL...   \n3      [{'id': 18, 'label': 'Center Attacking Midfiel...   \n12     [{'id': 12, 'label': 'Right Midfielder', 'shor...   \n15                                                  None   \n17     [{'id': 14, 'label': 'Center Midfielder', 'sho...   \n...                                                  ...   \n16338                                               None   \n16406                                               None   \n16450                                               None   \n16452  [{'id': 10, 'label': 'Center Defensive Midfiel...   \n16556  [{'id': 8, 'label': 'Left Wing Back', 'shortLa...   \n\n                                               playStyle  \\\n2      [{'id': 16, 'label': 'Power Header', 'imageUrl...   \n3      [{'id': 8, 'label': 'Dead Ball', 'imageUrl': '...   \n12     [{'id': 2, 'label': 'Chip Shot', 'imageUrl': '...   \n15     [{'id': 16, 'label': 'Power Header', 'imageUrl...   \n17     [{'id': 128, 'label': 'Long Ball Pass', 'image...   \n...                                                  ...   \n16338                                               None   \n16406  [{'id': 2, 'label': 'Rush Out', 'imageUrl': 'h...   \n16450                                               None   \n16452                                               None   \n16556                                               None   \n\n                                           playStylePlus  \\\n2      [{'id': 33554432, 'label': 'Acrobatic', 'image...   \n3      [{'id': 32, 'label': 'Incisive Pass', 'imageUr...   \n12     [{'id': 1, 'label': 'Finesse Shot', 'imageUrl'...   \n15     [{'id': 32768, 'label': 'Bruiser', 'imageUrl':...   \n17     [{'id': 4, 'label': 'Power Shot', 'imageUrl': ...   \n...                                                  ...   \n16338                                               None   \n16406                                               None   \n16450                                               None   \n16452                                               None   \n16556                                               None   \n\n                                     gender  \\\n2      {'id': 0, 'label': 'Men's Football'}   \n3      {'id': 0, 'label': 'Men's Football'}   \n12     {'id': 0, 'label': 'Men's Football'}   \n15     {'id': 0, 'label': 'Men's Football'}   \n17     {'id': 0, 'label': 'Men's Football'}   \n...                                     ...   \n16338  {'id': 0, 'label': 'Men's Football'}   \n16406  {'id': 0, 'label': 'Men's Football'}   \n16450  {'id': 0, 'label': 'Men's Football'}   \n16452  {'id': 0, 'label': 'Men's Football'}   \n16556  {'id': 0, 'label': 'Men's Football'}   \n\n                                             nationality  \\\n2      {'id': 36, 'label': 'Norway', 'imageUrl': 'htt...   \n3      {'id': 7, 'label': 'Belgium', 'imageUrl': 'htt...   \n12     {'id': 111, 'label': 'Egypt', 'imageUrl': 'htt...   \n15     {'id': 38, 'label': 'Portugal', 'imageUrl': 'h...   \n17     {'id': 45, 'label': 'Spain', 'imageUrl': 'http...   \n...                                                  ...   \n16338  {'id': 14, 'label': 'England', 'imageUrl': 'ht...   \n16406  {'id': 21, 'label': 'Germany', 'imageUrl': 'ht...   \n16450  {'id': 14, 'label': 'England', 'imageUrl': 'ht...   \n16452  {'id': 195, 'label': 'Australia', 'imageUrl': ...   \n16556  {'id': 14, 'label': 'England', 'imageUrl': 'ht...   \n\n                                                    team  \\\n2      {'id': 10, 'label': 'Manchester City', 'imageU...   \n3      {'id': 10, 'label': 'Manchester City', 'imageU...   \n12     {'id': 9, 'label': 'Liverpool', 'imageUrl': 'h...   \n15     {'id': 10, 'label': 'Manchester City', 'imageU...   \n17     {'id': 10, 'label': 'Manchester City', 'imageU...   \n...                                                  ...   \n16338  {'id': 14, 'label': 'Nott'm Forest', 'imageUrl...   \n16406  {'id': 1794, 'label': 'Sheffield Utd', 'imageU...   \n16450  {'id': 1794, 'label': 'Sheffield Utd', 'imageU...   \n16452  {'id': 144, 'label': 'Fulham', 'imageUrl': 'ht...   \n16556  {'id': 1808, 'label': 'Brighton', 'imageUrl': ...   \n\n                                                position  \\\n2      {'id': 25, 'shortLabel': 'ST', 'label': 'Strik...   \n3      {'id': 14, 'shortLabel': 'CM', 'label': 'Cente...   \n12     {'id': 23, 'shortLabel': 'RW', 'label': 'Right...   \n15     {'id': 5, 'shortLabel': 'CB', 'label': 'Center...   \n17     {'id': 10, 'shortLabel': 'CDM', 'label': 'Cent...   \n...                                                  ...   \n16338  {'id': 0, 'shortLabel': 'GK', 'label': 'Goalke...   \n16406  {'id': 0, 'shortLabel': 'GK', 'label': 'Goalke...   \n16450  {'id': 0, 'shortLabel': 'GK', 'label': 'Goalke...   \n16452  {'id': 14, 'shortLabel': 'CM', 'label': 'Cente...   \n16556  {'id': 7, 'shortLabel': 'LB', 'label': 'Left B...   \n\n                                                   stats  \n2      {'acceleration': {'value': 82, 'diff': 0}, 'ag...  \n3      {'acceleration': {'value': 72, 'diff': -4}, 'a...  \n12     {'acceleration': {'value': 89, 'diff': 0}, 'ag...  \n15     {'acceleration': {'value': 54, 'diff': -3}, 'a...  \n17     {'acceleration': {'value': 54, 'diff': 0}, 'ag...  \n...                                                  ...  \n16338  {'acceleration': {'value': 25, 'diff': 0}, 'ag...  \n16406  {'acceleration': {'value': 21, 'diff': 0}, 'ag...  \n16450  {'acceleration': {'value': 33, 'diff': 0}, 'ag...  \n16452  {'acceleration': {'value': 63, 'diff': 0}, 'ag...  \n16556  {'acceleration': {'value': 62, 'diff': 0}, 'ag...  \n\n[578 rows x 25 columns]",
      "text/html": "<div>\n<style scoped>\n    .dataframe tbody tr th:only-of-type {\n        vertical-align: middle;\n    }\n\n    .dataframe tbody tr th {\n        vertical-align: top;\n    }\n\n    .dataframe thead th {\n        text-align: right;\n    }\n</style>\n<table border=\"1\" class=\"dataframe\">\n  <thead>\n    <tr style=\"text-align: right;\">\n      <th></th>\n      <th>id</th>\n      <th>rank</th>\n      <th>overallRating</th>\n      <th>firstName</th>\n      <th>lastName</th>\n      <th>commonName</th>\n      <th>birthdate</th>\n      <th>height</th>\n      <th>skillMoves</th>\n      <th>weakFootAbility</th>\n      <th>...</th>\n      <th>avatarUrl</th>\n      <th>shieldUrl</th>\n      <th>alternatePositions</th>\n      <th>playStyle</th>\n      <th>playStylePlus</th>\n      <th>gender</th>\n      <th>nationality</th>\n      <th>team</th>\n      <th>position</th>\n      <th>stats</th>\n    </tr>\n  </thead>\n  <tbody>\n    <tr>\n      <th>2</th>\n      <td>239085</td>\n      <td>3</td>\n      <td>91</td>\n      <td>Erling</td>\n      <td>Haaland</td>\n      <td>None</td>\n      <td>7/21/2000 12:00:00 AM</td>\n      <td>195</td>\n      <td>3</td>\n      <td>3</td>\n      <td>...</td>\n      <td>https://media.contentapi.ea.com/content/dam/ea...</td>\n      <td>https://media.contentapi.ea.com/content/dam/ea...</td>\n      <td>[{'id': 21, 'label': 'Center Forward', 'shortL...</td>\n      <td>[{'id': 16, 'label': 'Power Header', 'imageUrl...</td>\n      <td>[{'id': 33554432, 'label': 'Acrobatic', 'image...</td>\n      <td>{'id': 0, 'label': 'Men's Football'}</td>\n      <td>{'id': 36, 'label': 'Norway', 'imageUrl': 'htt...</td>\n      <td>{'id': 10, 'label': 'Manchester City', 'imageU...</td>\n      <td>{'id': 25, 'shortLabel': 'ST', 'label': 'Strik...</td>\n      <td>{'acceleration': {'value': 82, 'diff': 0}, 'ag...</td>\n    </tr>\n    <tr>\n      <th>3</th>\n      <td>192985</td>\n      <td>4</td>\n      <td>91</td>\n      <td>Kevin</td>\n      <td>De Bruyne</td>\n      <td>None</td>\n      <td>6/28/1991 12:00:00 AM</td>\n      <td>181</td>\n      <td>4</td>\n      <td>5</td>\n      <td>...</td>\n      <td>https://media.contentapi.ea.com/content/dam/ea...</td>\n      <td>https://media.contentapi.ea.com/content/dam/ea...</td>\n      <td>[{'id': 18, 'label': 'Center Attacking Midfiel...</td>\n      <td>[{'id': 8, 'label': 'Dead Ball', 'imageUrl': '...</td>\n      <td>[{'id': 32, 'label': 'Incisive Pass', 'imageUr...</td>\n      <td>{'id': 0, 'label': 'Men's Football'}</td>\n      <td>{'id': 7, 'label': 'Belgium', 'imageUrl': 'htt...</td>\n      <td>{'id': 10, 'label': 'Manchester City', 'imageU...</td>\n      <td>{'id': 14, 'shortLabel': 'CM', 'label': 'Cente...</td>\n      <td>{'acceleration': {'value': 72, 'diff': -4}, 'a...</td>\n    </tr>\n    <tr>\n      <th>12</th>\n      <td>209331</td>\n      <td>13</td>\n      <td>89</td>\n      <td>Mohamed</td>\n      <td>Salah</td>\n      <td>None</td>\n      <td>6/15/1992 12:00:00 AM</td>\n      <td>175</td>\n      <td>4</td>\n      <td>3</td>\n      <td>...</td>\n      <td>https://media.contentapi.ea.com/content/dam/ea...</td>\n      <td>https://media.contentapi.ea.com/content/dam/ea...</td>\n      <td>[{'id': 12, 'label': 'Right Midfielder', 'shor...</td>\n      <td>[{'id': 2, 'label': 'Chip Shot', 'imageUrl': '...</td>\n      <td>[{'id': 1, 'label': 'Finesse Shot', 'imageUrl'...</td>\n      <td>{'id': 0, 'label': 'Men's Football'}</td>\n      <td>{'id': 111, 'label': 'Egypt', 'imageUrl': 'htt...</td>\n      <td>{'id': 9, 'label': 'Liverpool', 'imageUrl': 'h...</td>\n      <td>{'id': 23, 'shortLabel': 'RW', 'label': 'Right...</td>\n      <td>{'acceleration': {'value': 89, 'diff': 0}, 'ag...</td>\n    </tr>\n    <tr>\n      <th>15</th>\n      <td>239818</td>\n      <td>16</td>\n      <td>89</td>\n      <td>Rúben Santos</td>\n      <td>Gato Alves Dias</td>\n      <td>Rúben Dias</td>\n      <td>5/14/1997 12:00:00 AM</td>\n      <td>187</td>\n      <td>2</td>\n      <td>4</td>\n      <td>...</td>\n      <td>https://media.contentapi.ea.com/content/dam/ea...</td>\n      <td>https://media.contentapi.ea.com/content/dam/ea...</td>\n      <td>None</td>\n      <td>[{'id': 16, 'label': 'Power Header', 'imageUrl...</td>\n      <td>[{'id': 32768, 'label': 'Bruiser', 'imageUrl':...</td>\n      <td>{'id': 0, 'label': 'Men's Football'}</td>\n      <td>{'id': 38, 'label': 'Portugal', 'imageUrl': 'h...</td>\n      <td>{'id': 10, 'label': 'Manchester City', 'imageU...</td>\n      <td>{'id': 5, 'shortLabel': 'CB', 'label': 'Center...</td>\n      <td>{'acceleration': {'value': 54, 'diff': -3}, 'a...</td>\n    </tr>\n    <tr>\n      <th>17</th>\n      <td>231866</td>\n      <td>18</td>\n      <td>89</td>\n      <td>Rodrigo</td>\n      <td>Hernández Cascante</td>\n      <td>Rodri</td>\n      <td>6/22/1996 12:00:00 AM</td>\n      <td>191</td>\n      <td>3</td>\n      <td>4</td>\n      <td>...</td>\n      <td>https://media.contentapi.ea.com/content/dam/ea...</td>\n      <td>https://media.contentapi.ea.com/content/dam/ea...</td>\n      <td>[{'id': 14, 'label': 'Center Midfielder', 'sho...</td>\n      <td>[{'id': 128, 'label': 'Long Ball Pass', 'image...</td>\n      <td>[{'id': 4, 'label': 'Power Shot', 'imageUrl': ...</td>\n      <td>{'id': 0, 'label': 'Men's Football'}</td>\n      <td>{'id': 45, 'label': 'Spain', 'imageUrl': 'http...</td>\n      <td>{'id': 10, 'label': 'Manchester City', 'imageU...</td>\n      <td>{'id': 10, 'shortLabel': 'CDM', 'label': 'Cent...</td>\n      <td>{'acceleration': {'value': 54, 'diff': 0}, 'ag...</td>\n    </tr>\n    <tr>\n      <th>...</th>\n      <td>...</td>\n      <td>...</td>\n      <td>...</td>\n      <td>...</td>\n      <td>...</td>\n      <td>...</td>\n      <td>...</td>\n      <td>...</td>\n      <td>...</td>\n      <td>...</td>\n      <td>...</td>\n      <td>...</td>\n      <td>...</td>\n      <td>...</td>\n      <td>...</td>\n      <td>...</td>\n      <td>...</td>\n      <td>...</td>\n      <td>...</td>\n      <td>...</td>\n      <td>...</td>\n    </tr>\n    <tr>\n      <th>16338</th>\n      <td>251423</td>\n      <td>16113</td>\n      <td>56</td>\n      <td>George</td>\n      <td>Shelvey</td>\n      <td>None</td>\n      <td>4/22/2001 12:00:00 AM</td>\n      <td>188</td>\n      <td>1</td>\n      <td>3</td>\n      <td>...</td>\n      <td>https://media.contentapi.ea.com/content/dam/ea...</td>\n      <td>https://media.contentapi.ea.com/content/dam/ea...</td>\n      <td>None</td>\n      <td>None</td>\n      <td>None</td>\n      <td>{'id': 0, 'label': 'Men's Football'}</td>\n      <td>{'id': 14, 'label': 'England', 'imageUrl': 'ht...</td>\n      <td>{'id': 14, 'label': 'Nott'm Forest', 'imageUrl...</td>\n      <td>{'id': 0, 'shortLabel': 'GK', 'label': 'Goalke...</td>\n      <td>{'acceleration': {'value': 25, 'diff': 0}, 'ag...</td>\n    </tr>\n    <tr>\n      <th>16406</th>\n      <td>271064</td>\n      <td>16393</td>\n      <td>55</td>\n      <td>Jordan</td>\n      <td>Amissah</td>\n      <td>None</td>\n      <td>8/2/2001 12:00:00 AM</td>\n      <td>198</td>\n      <td>1</td>\n      <td>2</td>\n      <td>...</td>\n      <td>https://media.contentapi.ea.com/content/dam/ea...</td>\n      <td>https://media.contentapi.ea.com/content/dam/ea...</td>\n      <td>None</td>\n      <td>[{'id': 2, 'label': 'Rush Out', 'imageUrl': 'h...</td>\n      <td>None</td>\n      <td>{'id': 0, 'label': 'Men's Football'}</td>\n      <td>{'id': 21, 'label': 'Germany', 'imageUrl': 'ht...</td>\n      <td>{'id': 1794, 'label': 'Sheffield Utd', 'imageU...</td>\n      <td>{'id': 0, 'shortLabel': 'GK', 'label': 'Goalke...</td>\n      <td>{'acceleration': {'value': 21, 'diff': 0}, 'ag...</td>\n    </tr>\n    <tr>\n      <th>16450</th>\n      <td>244809</td>\n      <td>16393</td>\n      <td>55</td>\n      <td>Marcus</td>\n      <td>Dewhurst</td>\n      <td>None</td>\n      <td>3/20/2001 12:00:00 AM</td>\n      <td>189</td>\n      <td>1</td>\n      <td>2</td>\n      <td>...</td>\n      <td>https://media.contentapi.ea.com/content/dam/ea...</td>\n      <td>https://media.contentapi.ea.com/content/dam/ea...</td>\n      <td>None</td>\n      <td>None</td>\n      <td>None</td>\n      <td>{'id': 0, 'label': 'Men's Football'}</td>\n      <td>{'id': 14, 'label': 'England', 'imageUrl': 'ht...</td>\n      <td>{'id': 1794, 'label': 'Sheffield Utd', 'imageU...</td>\n      <td>{'id': 0, 'shortLabel': 'GK', 'label': 'Goalke...</td>\n      <td>{'acceleration': {'value': 33, 'diff': 0}, 'ag...</td>\n    </tr>\n    <tr>\n      <th>16452</th>\n      <td>268605</td>\n      <td>16393</td>\n      <td>55</td>\n      <td>Chris</td>\n      <td>Donnell</td>\n      <td>None</td>\n      <td>1/24/2004 12:00:00 AM</td>\n      <td>181</td>\n      <td>2</td>\n      <td>3</td>\n      <td>...</td>\n      <td>https://media.contentapi.ea.com/content/dam/ea...</td>\n      <td>https://media.contentapi.ea.com/content/dam/ea...</td>\n      <td>[{'id': 10, 'label': 'Center Defensive Midfiel...</td>\n      <td>None</td>\n      <td>None</td>\n      <td>{'id': 0, 'label': 'Men's Football'}</td>\n      <td>{'id': 195, 'label': 'Australia', 'imageUrl': ...</td>\n      <td>{'id': 144, 'label': 'Fulham', 'imageUrl': 'ht...</td>\n      <td>{'id': 14, 'shortLabel': 'CM', 'label': 'Cente...</td>\n      <td>{'acceleration': {'value': 63, 'diff': 0}, 'ag...</td>\n    </tr>\n    <tr>\n      <th>16556</th>\n      <td>250830</td>\n      <td>16393</td>\n      <td>55</td>\n      <td>Imari</td>\n      <td>Samuels</td>\n      <td>None</td>\n      <td>2/5/2003 12:00:00 AM</td>\n      <td>187</td>\n      <td>2</td>\n      <td>2</td>\n      <td>...</td>\n      <td>https://media.contentapi.ea.com/content/dam/ea...</td>\n      <td>https://media.contentapi.ea.com/content/dam/ea...</td>\n      <td>[{'id': 8, 'label': 'Left Wing Back', 'shortLa...</td>\n      <td>None</td>\n      <td>None</td>\n      <td>{'id': 0, 'label': 'Men's Football'}</td>\n      <td>{'id': 14, 'label': 'England', 'imageUrl': 'ht...</td>\n      <td>{'id': 1808, 'label': 'Brighton', 'imageUrl': ...</td>\n      <td>{'id': 7, 'shortLabel': 'LB', 'label': 'Left B...</td>\n      <td>{'acceleration': {'value': 62, 'diff': 0}, 'ag...</td>\n    </tr>\n  </tbody>\n</table>\n<p>578 rows × 25 columns</p>\n</div>"
     },
     "execution_count": 26,
     "metadata": {},
     "output_type": "execute_result"
    }
   ],
   "source": [
    "df.query(\"leagueName == 'Premier League'\")"
   ],
   "metadata": {
    "collapsed": false,
    "ExecuteTime": {
     "end_time": "2024-01-22T01:07:36.786718Z",
     "start_time": "2024-01-22T01:07:36.639285Z"
    }
   }
  },
  {
   "cell_type": "code",
   "execution_count": null,
   "outputs": [],
   "source": [],
   "metadata": {
    "collapsed": false
   }
  }
 ],
 "metadata": {
  "kernelspec": {
   "display_name": "Python 3",
   "language": "python",
   "name": "python3"
  },
  "language_info": {
   "codemirror_mode": {
    "name": "ipython",
    "version": 2
   },
   "file_extension": ".py",
   "mimetype": "text/x-python",
   "name": "python",
   "nbconvert_exporter": "python",
   "pygments_lexer": "ipython2",
   "version": "2.7.6"
  }
 },
 "nbformat": 4,
 "nbformat_minor": 0
}
